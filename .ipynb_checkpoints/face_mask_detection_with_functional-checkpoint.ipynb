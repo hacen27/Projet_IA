{
 "cells": [
  {
   "cell_type": "code",
   "execution_count": 2,
   "id": "dabdd567",
   "metadata": {},
   "outputs": [],
   "source": [
    "# importing necessary libraries in this IA project \n",
    "\n",
    "#common python libraries\n",
    "from statistics import mode\n",
    "from warnings import filters\n",
    "import numpy as np \n",
    "import pandas as pd \n",
    "import os\n",
    "import matplotlib.pyplot as plt \n",
    "import matplotlib.patches as patches \n",
    "\n",
    "#for reading in images and images manipulation \n",
    "import cv2\n",
    "\n",
    "#for label encoding the target variable \n",
    "from sklearn.preprocessing import LabelEncoder\n",
    "\n",
    "#for tensor based operations\n",
    "from tensorflow.keras.utils import to_categorical, normalize\n",
    "\n",
    "#for machine learning \n",
    "from tensorflow.keras.layers import Flatten,Dense ,Conv2D, MaxPooling2D, Dropout\n",
    "from tensorflow.keras.models import Model\n",
    "# from tensorflow.keras.optimazers import Adma\n",
    "from tensorflow.keras.optimizers import Adam\n",
    "# from tensorflow.keras.optimizers import Adma\n",
    "\n",
    "#for face detector \n",
    "from mtcnn.mtcnn import MTCNN"
   ]
  },
  {
   "cell_type": "code",
   "execution_count": 3,
   "id": "e21a32b6",
   "metadata": {},
   "outputs": [
    {
     "data": {
      "text/html": [
       "<div>\n",
       "<style scoped>\n",
       "    .dataframe tbody tr th:only-of-type {\n",
       "        vertical-align: middle;\n",
       "    }\n",
       "\n",
       "    .dataframe tbody tr th {\n",
       "        vertical-align: top;\n",
       "    }\n",
       "\n",
       "    .dataframe thead th {\n",
       "        text-align: right;\n",
       "    }\n",
       "</style>\n",
       "<table border=\"1\" class=\"dataframe\">\n",
       "  <thead>\n",
       "    <tr style=\"text-align: right;\">\n",
       "      <th></th>\n",
       "      <th>name</th>\n",
       "      <th>x1</th>\n",
       "      <th>x2</th>\n",
       "      <th>y1</th>\n",
       "      <th>y2</th>\n",
       "      <th>classname</th>\n",
       "    </tr>\n",
       "  </thead>\n",
       "  <tbody>\n",
       "    <tr>\n",
       "      <th>0</th>\n",
       "      <td>2756.png</td>\n",
       "      <td>69</td>\n",
       "      <td>126</td>\n",
       "      <td>294</td>\n",
       "      <td>392</td>\n",
       "      <td>face_with_mask</td>\n",
       "    </tr>\n",
       "    <tr>\n",
       "      <th>1</th>\n",
       "      <td>2756.png</td>\n",
       "      <td>505</td>\n",
       "      <td>10</td>\n",
       "      <td>723</td>\n",
       "      <td>283</td>\n",
       "      <td>face_with_mask</td>\n",
       "    </tr>\n",
       "    <tr>\n",
       "      <th>2</th>\n",
       "      <td>2756.png</td>\n",
       "      <td>75</td>\n",
       "      <td>252</td>\n",
       "      <td>264</td>\n",
       "      <td>390</td>\n",
       "      <td>mask_colorful</td>\n",
       "    </tr>\n",
       "    <tr>\n",
       "      <th>3</th>\n",
       "      <td>2756.png</td>\n",
       "      <td>521</td>\n",
       "      <td>136</td>\n",
       "      <td>711</td>\n",
       "      <td>277</td>\n",
       "      <td>mask_colorful</td>\n",
       "    </tr>\n",
       "    <tr>\n",
       "      <th>4</th>\n",
       "      <td>6098.jpg</td>\n",
       "      <td>360</td>\n",
       "      <td>85</td>\n",
       "      <td>728</td>\n",
       "      <td>653</td>\n",
       "      <td>face_no_mask</td>\n",
       "    </tr>\n",
       "    <tr>\n",
       "      <th>...</th>\n",
       "      <td>...</td>\n",
       "      <td>...</td>\n",
       "      <td>...</td>\n",
       "      <td>...</td>\n",
       "      <td>...</td>\n",
       "      <td>...</td>\n",
       "    </tr>\n",
       "    <tr>\n",
       "      <th>15407</th>\n",
       "      <td>1894.jpg</td>\n",
       "      <td>437</td>\n",
       "      <td>121</td>\n",
       "      <td>907</td>\n",
       "      <td>644</td>\n",
       "      <td>face_with_mask</td>\n",
       "    </tr>\n",
       "    <tr>\n",
       "      <th>15408</th>\n",
       "      <td>1894.jpg</td>\n",
       "      <td>557</td>\n",
       "      <td>363</td>\n",
       "      <td>876</td>\n",
       "      <td>636</td>\n",
       "      <td>mask_surgical</td>\n",
       "    </tr>\n",
       "    <tr>\n",
       "      <th>15409</th>\n",
       "      <td>1894.jpg</td>\n",
       "      <td>411</td>\n",
       "      <td>3</td>\n",
       "      <td>940</td>\n",
       "      <td>325</td>\n",
       "      <td>hat</td>\n",
       "    </tr>\n",
       "    <tr>\n",
       "      <th>15410</th>\n",
       "      <td>3216.png</td>\n",
       "      <td>126</td>\n",
       "      <td>69</td>\n",
       "      <td>409</td>\n",
       "      <td>463</td>\n",
       "      <td>face_with_mask</td>\n",
       "    </tr>\n",
       "    <tr>\n",
       "      <th>15411</th>\n",
       "      <td>3216.png</td>\n",
       "      <td>136</td>\n",
       "      <td>289</td>\n",
       "      <td>393</td>\n",
       "      <td>461</td>\n",
       "      <td>mask_colorful</td>\n",
       "    </tr>\n",
       "  </tbody>\n",
       "</table>\n",
       "<p>15412 rows × 6 columns</p>\n",
       "</div>"
      ],
      "text/plain": [
       "           name   x1   x2   y1   y2       classname\n",
       "0      2756.png   69  126  294  392  face_with_mask\n",
       "1      2756.png  505   10  723  283  face_with_mask\n",
       "2      2756.png   75  252  264  390   mask_colorful\n",
       "3      2756.png  521  136  711  277   mask_colorful\n",
       "4      6098.jpg  360   85  728  653    face_no_mask\n",
       "...         ...  ...  ...  ...  ...             ...\n",
       "15407  1894.jpg  437  121  907  644  face_with_mask\n",
       "15408  1894.jpg  557  363  876  636   mask_surgical\n",
       "15409  1894.jpg  411    3  940  325             hat\n",
       "15410  3216.png  126   69  409  463  face_with_mask\n",
       "15411  3216.png  136  289  393  461   mask_colorful\n",
       "\n",
       "[15412 rows x 6 columns]"
      ]
     },
     "execution_count": 3,
     "metadata": {},
     "output_type": "execute_result"
    }
   ],
   "source": [
    "#reading in the csv file \n",
    "train = pd.read_csv(\"data/train.csv\")\n",
    "#displaying the first five rows \n",
    "train"
   ]
  },
  {
   "cell_type": "code",
   "execution_count": 4,
   "id": "ac9de421",
   "metadata": {},
   "outputs": [
    {
     "data": {
      "text/plain": [
       "array(['face_with_mask', 'mask_colorful', 'face_no_mask',\n",
       "       'face_with_mask_incorrect', 'mask_surgical', 'face_other_covering',\n",
       "       'scarf_bandana', 'eyeglasses', 'helmet', 'face_shield',\n",
       "       'sunglasses', 'hood', 'hat', 'goggles', 'hair_net', 'hijab_niqab',\n",
       "       'other', 'gas_mask', 'balaclava_ski_mask', 'turban'], dtype=object)"
      ]
     },
     "execution_count": 4,
     "metadata": {},
     "output_type": "execute_result"
    }
   ],
   "source": [
    "#print the unique elements\n",
    "train[\"classname\"].unique()"
   ]
  },
  {
   "cell_type": "code",
   "execution_count": 5,
   "id": "8f58c336",
   "metadata": {},
   "outputs": [],
   "source": [
    "#classname to select \n",
    "options = [\"face_with_mask\",\"face_no_mask\"]\n",
    "\n",
    "#select rows that have the classname as either \"face_with_mask\" or \"face_no_mask\"\n",
    "train = train[train[\"classname\"].isin(options)].reset_index(drop=True)\n",
    "train.sort_values(\"name\", axis=0, inplace=True)"
   ]
  },
  {
   "cell_type": "code",
   "execution_count": 6,
   "id": "459c30ff",
   "metadata": {},
   "outputs": [
    {
     "data": {
      "text/plain": [
       "array(['face_no_mask', 'face_with_mask'], dtype=object)"
      ]
     },
     "execution_count": 6,
     "metadata": {},
     "output_type": "execute_result"
    }
   ],
   "source": [
    "train[\"classname\"].unique()"
   ]
  },
  {
   "cell_type": "code",
   "execution_count": 7,
   "id": "9a12a4c8",
   "metadata": {},
   "outputs": [
    {
     "data": {
      "text/html": [
       "<div>\n",
       "<style scoped>\n",
       "    .dataframe tbody tr th:only-of-type {\n",
       "        vertical-align: middle;\n",
       "    }\n",
       "\n",
       "    .dataframe tbody tr th {\n",
       "        vertical-align: top;\n",
       "    }\n",
       "\n",
       "    .dataframe thead th {\n",
       "        text-align: right;\n",
       "    }\n",
       "</style>\n",
       "<table border=\"1\" class=\"dataframe\">\n",
       "  <thead>\n",
       "    <tr style=\"text-align: right;\">\n",
       "      <th></th>\n",
       "      <th>name</th>\n",
       "      <th>x1</th>\n",
       "      <th>x2</th>\n",
       "      <th>y1</th>\n",
       "      <th>y2</th>\n",
       "      <th>classname</th>\n",
       "    </tr>\n",
       "  </thead>\n",
       "  <tbody>\n",
       "    <tr>\n",
       "      <th>4974</th>\n",
       "      <td>1801.jpg</td>\n",
       "      <td>451</td>\n",
       "      <td>186</td>\n",
       "      <td>895</td>\n",
       "      <td>697</td>\n",
       "      <td>face_no_mask</td>\n",
       "    </tr>\n",
       "    <tr>\n",
       "      <th>1327</th>\n",
       "      <td>1802.jpg</td>\n",
       "      <td>110</td>\n",
       "      <td>71</td>\n",
       "      <td>273</td>\n",
       "      <td>272</td>\n",
       "      <td>face_with_mask</td>\n",
       "    </tr>\n",
       "    <tr>\n",
       "      <th>5524</th>\n",
       "      <td>1803.jpg</td>\n",
       "      <td>126</td>\n",
       "      <td>75</td>\n",
       "      <td>303</td>\n",
       "      <td>333</td>\n",
       "      <td>face_with_mask</td>\n",
       "    </tr>\n",
       "    <tr>\n",
       "      <th>2214</th>\n",
       "      <td>1804.jpg</td>\n",
       "      <td>112</td>\n",
       "      <td>113</td>\n",
       "      <td>262</td>\n",
       "      <td>307</td>\n",
       "      <td>face_with_mask</td>\n",
       "    </tr>\n",
       "    <tr>\n",
       "      <th>2330</th>\n",
       "      <td>1805.jpg</td>\n",
       "      <td>728</td>\n",
       "      <td>180</td>\n",
       "      <td>853</td>\n",
       "      <td>336</td>\n",
       "      <td>face_with_mask</td>\n",
       "    </tr>\n",
       "  </tbody>\n",
       "</table>\n",
       "</div>"
      ],
      "text/plain": [
       "          name   x1   x2   y1   y2       classname\n",
       "4974  1801.jpg  451  186  895  697    face_no_mask\n",
       "1327  1802.jpg  110   71  273  272  face_with_mask\n",
       "5524  1803.jpg  126   75  303  333  face_with_mask\n",
       "2214  1804.jpg  112  113  262  307  face_with_mask\n",
       "2330  1805.jpg  728  180  853  336  face_with_mask"
      ]
     },
     "execution_count": 7,
     "metadata": {},
     "output_type": "execute_result"
    }
   ],
   "source": [
    "train.head()"
   ]
  },
  {
   "cell_type": "code",
   "execution_count": 8,
   "id": "d42a86b0",
   "metadata": {},
   "outputs": [
    {
     "data": {
      "text/plain": [
       "<BarContainer object of 2 artists>"
      ]
     },
     "execution_count": 8,
     "metadata": {},
     "output_type": "execute_result"
    },
    {
     "data": {
      "image/png": "[encoded data removed]",
      "text/plain": [
       "<Figure size 432x288 with 1 Axes>"
      ]
     },
     "metadata": {
      "needs_background": "light"
     },
     "output_type": "display_data"
    }
   ],
   "source": [
    "#plotting a bar plot \n",
    "x_axis_val = [\"face_with_mask\",\"face_no_mask\"]\n",
    "y_axis_val = train.classname.value_counts()\n",
    "plt.bar(x_axis_val,y_axis_val)"
   ]
  },
  {
   "cell_type": "code",
   "execution_count": 9,
   "id": "ddf6dd45",
   "metadata": {},
   "outputs": [
    {
     "name": "stdout",
     "output_type": "stream",
     "text": [
      "Images File path : data/Medical mask/Medical mask/Medical mask/images/\n"
     ]
    }
   ],
   "source": [
    "#fetching image from the folder data/Medical mask/Medical mask/Medical mask/images/\n",
    "#contains images of medical masks\n",
    "images_file_path = \"data/Medical mask/Medical mask/Medical mask/images/\"\n",
    "print(f\"Images File path : {images_file_path}\")"
   ]
  },
  {
   "cell_type": "code",
   "execution_count": 10,
   "id": "e44ec2e1",
   "metadata": {},
   "outputs": [
    {
     "name": "stdout",
     "output_type": "stream",
     "text": [
      "Number of images : 6024\n"
     ]
    }
   ],
   "source": [
    "#fetching all the file names in the image directory\n",
    "image_filenames = os.listdir(images_file_path)\n",
    "print(f\"Number of images : {len(image_filenames)}\")"
   ]
  },
  {
   "cell_type": "code",
   "execution_count": 11,
   "id": "4e661252",
   "metadata": {},
   "outputs": [
    {
     "name": "stdout",
     "output_type": "stream",
     "text": [
      "['0001.jpg', '0002.png', '0003.jpg', '0004.jpg', '0005.jpg']\n"
     ]
    }
   ],
   "source": [
    "#printing out the first five image names \n",
    "print(image_filenames[:5])"
   ]
  },
  {
   "cell_type": "code",
   "execution_count": 12,
   "id": "1947d983",
   "metadata": {},
   "outputs": [
    {
     "data": {
      "text/html": [
       "<div>\n",
       "<style scoped>\n",
       "    .dataframe tbody tr th:only-of-type {\n",
       "        vertical-align: middle;\n",
       "    }\n",
       "\n",
       "    .dataframe tbody tr th {\n",
       "        vertical-align: top;\n",
       "    }\n",
       "\n",
       "    .dataframe thead th {\n",
       "        text-align: right;\n",
       "    }\n",
       "</style>\n",
       "<table border=\"1\" class=\"dataframe\">\n",
       "  <thead>\n",
       "    <tr style=\"text-align: right;\">\n",
       "      <th></th>\n",
       "      <th>name</th>\n",
       "      <th>x1</th>\n",
       "      <th>x2</th>\n",
       "      <th>y1</th>\n",
       "      <th>y2</th>\n",
       "      <th>classname</th>\n",
       "    </tr>\n",
       "  </thead>\n",
       "  <tbody>\n",
       "    <tr>\n",
       "      <th>4974</th>\n",
       "      <td>1801.jpg</td>\n",
       "      <td>451</td>\n",
       "      <td>186</td>\n",
       "      <td>895</td>\n",
       "      <td>697</td>\n",
       "      <td>face_no_mask</td>\n",
       "    </tr>\n",
       "    <tr>\n",
       "      <th>1327</th>\n",
       "      <td>1802.jpg</td>\n",
       "      <td>110</td>\n",
       "      <td>71</td>\n",
       "      <td>273</td>\n",
       "      <td>272</td>\n",
       "      <td>face_with_mask</td>\n",
       "    </tr>\n",
       "    <tr>\n",
       "      <th>5524</th>\n",
       "      <td>1803.jpg</td>\n",
       "      <td>126</td>\n",
       "      <td>75</td>\n",
       "      <td>303</td>\n",
       "      <td>333</td>\n",
       "      <td>face_with_mask</td>\n",
       "    </tr>\n",
       "    <tr>\n",
       "      <th>2214</th>\n",
       "      <td>1804.jpg</td>\n",
       "      <td>112</td>\n",
       "      <td>113</td>\n",
       "      <td>262</td>\n",
       "      <td>307</td>\n",
       "      <td>face_with_mask</td>\n",
       "    </tr>\n",
       "    <tr>\n",
       "      <th>2330</th>\n",
       "      <td>1805.jpg</td>\n",
       "      <td>728</td>\n",
       "      <td>180</td>\n",
       "      <td>853</td>\n",
       "      <td>336</td>\n",
       "      <td>face_with_mask</td>\n",
       "    </tr>\n",
       "  </tbody>\n",
       "</table>\n",
       "</div>"
      ],
      "text/plain": [
       "          name   x1   x2   y1   y2       classname\n",
       "4974  1801.jpg  451  186  895  697    face_no_mask\n",
       "1327  1802.jpg  110   71  273  272  face_with_mask\n",
       "5524  1803.jpg  126   75  303  333  face_with_mask\n",
       "2214  1804.jpg  112  113  262  307  face_with_mask\n",
       "2330  1805.jpg  728  180  853  336  face_with_mask"
      ]
     },
     "execution_count": 12,
     "metadata": {},
     "output_type": "execute_result"
    }
   ],
   "source": [
    "#looking at the first five rows \n",
    "train.head()"
   ]
  },
  {
   "cell_type": "code",
   "execution_count": 13,
   "id": "4d523eef",
   "metadata": {},
   "outputs": [
    {
     "name": "stdout",
     "output_type": "stream",
     "text": [
      "data/Medical mask/Medical mask/Medical mask/images/1801.jpg\n"
     ]
    }
   ],
   "source": [
    "#getting the full image as an array\n",
    "sample_image_name =train.iloc[0][\"name\"]\n",
    "sample_image_file_path = images_file_path + sample_image_name \n",
    "\n",
    "print(sample_image_file_path)"
   ]
  },
  {
   "cell_type": "code",
   "execution_count": 14,
   "id": "606920dc",
   "metadata": {},
   "outputs": [],
   "source": [
    "#reading in the image as an array \n",
    "img = plt.imread(sample_image_file_path)"
   ]
  },
  {
   "cell_type": "code",
   "execution_count": 15,
   "id": "323a0a34",
   "metadata": {},
   "outputs": [
    {
     "data": {
      "text/plain": [
       "array([[[153, 147, 149],\n",
       "        [153, 147, 149],\n",
       "        [152, 146, 148],\n",
       "        ...,\n",
       "        [159, 155, 156],\n",
       "        [161, 155, 157],\n",
       "        [160, 154, 156]],\n",
       "\n",
       "       [[152, 146, 148],\n",
       "        [152, 146, 148],\n",
       "        [152, 146, 148],\n",
       "        ...,\n",
       "        [160, 156, 157],\n",
       "        [162, 156, 158],\n",
       "        [161, 155, 157]],\n",
       "\n",
       "       [[152, 146, 148],\n",
       "        [152, 146, 148],\n",
       "        [152, 146, 148],\n",
       "        ...,\n",
       "        [160, 156, 157],\n",
       "        [161, 155, 157],\n",
       "        [161, 155, 157]],\n",
       "\n",
       "       ...,\n",
       "\n",
       "       [[ 71,  67,  68],\n",
       "        [ 71,  67,  68],\n",
       "        [ 71,  67,  68],\n",
       "        ...,\n",
       "        [129, 119, 127],\n",
       "        [128, 122, 126],\n",
       "        [129, 123, 127]],\n",
       "\n",
       "       [[ 71,  67,  68],\n",
       "        [ 71,  67,  68],\n",
       "        [ 71,  67,  68],\n",
       "        ...,\n",
       "        [129, 119, 127],\n",
       "        [127, 121, 125],\n",
       "        [128, 122, 126]],\n",
       "\n",
       "       [[ 71,  67,  68],\n",
       "        [ 70,  66,  67],\n",
       "        [ 72,  68,  69],\n",
       "        ...,\n",
       "        [128, 121, 128],\n",
       "        [131, 121, 129],\n",
       "        [130, 120, 128]]], dtype=uint8)"
      ]
     },
     "execution_count": 15,
     "metadata": {},
     "output_type": "execute_result"
    }
   ],
   "source": [
    "# pour afficher l'array\n",
    "img"
   ]
  },
  {
   "cell_type": "code",
   "execution_count": 16,
   "id": "89f86b4a",
   "metadata": {},
   "outputs": [
    {
     "data": {
      "text/plain": [
       "(1385, 1386, 3)"
      ]
     },
     "execution_count": 16,
     "metadata": {},
     "output_type": "execute_result"
    }
   ],
   "source": [
    "# pour afficher la dimention de l'array\n",
    "img.shape"
   ]
  },
  {
   "cell_type": "code",
   "execution_count": 17,
   "id": "e29c9116",
   "metadata": {},
   "outputs": [
    {
     "data": {
      "text/plain": [
       "<matplotlib.image.AxesImage at 0x264c3222b80>"
      ]
     },
     "execution_count": 17,
     "metadata": {},
     "output_type": "execute_result"
    },
    {
     "data": {
      "image/png": "[encoded data removed]",
      "text/plain": [
       "<Figure size 432x288 with 1 Axes>"
      ]
     },
     "metadata": {
      "needs_background": "light"
     },
     "output_type": "display_data"
    }
   ],
   "source": [
    "#creating a figure and a sub-plot axis\n",
    "fig, ax = plt.subplots()\n",
    "#showing the image \n",
    "ax.imshow(img)"
   ]
  },
  {
   "cell_type": "code",
   "execution_count": 18,
   "id": "a14c3df7",
   "metadata": {},
   "outputs": [
    {
     "name": "stdout",
     "output_type": "stream",
     "text": [
      "[[451, 186, 895, 697]]\n"
     ]
    }
   ],
   "source": [
    "#select rows with the same image name as in the \"name\" column of the train dataframe\n",
    "sel_df = train[train[\"name\"] == sample_image_name ]\n",
    "\n",
    "#convert all of the available \"bbox\" values into a list\n",
    "bboxes = sel_df[[\"x1\",\"x2\",\"y1\",\"y2\"]].values.tolist()\n",
    "print(bboxes)"
   ]
  },
  {
   "cell_type": "code",
   "execution_count": 19,
   "id": "3ee43092",
   "metadata": {},
   "outputs": [
    {
     "data": {
      "image/png": "[encoded data removed]",
      "text/plain": [
       "<Figure size 432x288 with 1 Axes>"
      ]
     },
     "metadata": {
      "needs_background": "light"
     },
     "output_type": "display_data"
    }
   ],
   "source": [
    "#creating a figure and a sub-plot\n",
    "fig, ax = plt.subplots()\n",
    "#showing the image \n",
    "ax.imshow(img)\n",
    "#Plotting the bounding boxes \n",
    "for box in bboxes:\n",
    "    x1,x2,y1,y2 = box\n",
    "    #x and y co-cordinates\n",
    "    xy = (x1,x2)\n",
    "    #width of box \n",
    "    width = y1 - x1\n",
    "    #height of box \n",
    "    height = y2 - x2\n",
    "    rect = patches.Rectangle(\n",
    "        xy,width,height,linewidth=2,edgecolor=\"r\",facecolor=\"none\",\n",
    "    )\n",
    "    ax.add_patch(rect)"
   ]
  },
  {
   "cell_type": "code",
   "execution_count": 20,
   "id": "ad77cd63",
   "metadata": {},
   "outputs": [],
   "source": [
    "# Create training data \n",
    "#creating an array of image arrays and their labels\n",
    "img_size = 50\n",
    "data = []\n",
    "#iterating through each row of the dataset\n",
    "for index,row in train.iterrows():\n",
    "        #Single row \n",
    "        name, x1, x2, y1, y2, classname =row.values\n",
    "        #full file path \n",
    "        full_file_path = images_file_path + name\n",
    "        #reading in the image as a grayscale image\n",
    "        img_array = cv2.imread(full_file_path, cv2.IMREAD_GRAYSCALE)\n",
    "        #selecting the portion covred by the bounding box \n",
    "        crop_image = img_array[x2:y2, x1:y1]\n",
    "        #resizing the image \n",
    "        new_img_array = cv2.resize(crop_image,(img_size,img_size))\n",
    "        #appanding the arrays into a data variable along with bounding box \n",
    "        data.append([new_img_array, classname])"
   ]
  },
  {
   "cell_type": "code",
   "execution_count": 21,
   "id": "4b6d9687",
   "metadata": {},
   "outputs": [
    {
     "data": {
      "text/plain": [
       "array([[ 72,  27,  18, ...,  43, 160, 161],\n",
       "       [ 67,  19,  15, ...,  21, 128, 159],\n",
       "       [ 35,  17,  19, ...,  17,  89, 160],\n",
       "       ...,\n",
       "       [119, 118, 118, ...,  39, 151, 152],\n",
       "       [116, 118, 117, ...,  29,  37, 137],\n",
       "       [117, 116, 116, ...,  29,  30,  49]], dtype=uint8)"
      ]
     },
     "execution_count": 21,
     "metadata": {},
     "output_type": "execute_result"
    }
   ],
   "source": [
    "data[0][0]"
   ]
  },
  {
   "cell_type": "code",
   "execution_count": 22,
   "id": "d1fe2ef5",
   "metadata": {},
   "outputs": [
    {
     "data": {
      "text/plain": [
       "<matplotlib.image.AxesImage at 0x264c65797f0>"
      ]
     },
     "execution_count": 22,
     "metadata": {},
     "output_type": "execute_result"
    },
    {
     "data": {
      "image/png": "[encoded data removed]",
      "text/plain": [
       "<Figure size 432x288 with 1 Axes>"
      ]
     },
     "metadata": {
      "needs_background": "light"
     },
     "output_type": "display_data"
    }
   ],
   "source": [
    "# ploting one of the images after pre-processing \n",
    "plt.imshow(data[0][0], cmap=\"gray\")"
   ]
  },
  {
   "cell_type": "code",
   "execution_count": 23,
   "id": "38e7a095",
   "metadata": {},
   "outputs": [],
   "source": [
    "# let's separate out the independent variables x with the dependent variable y\n",
    "#initializing an empty list for features\n",
    "x = []\n",
    "# initializing an empty list for labels \n",
    "y = []\n",
    "\n",
    "for features,labels in data :\n",
    "    x.append(features)\n",
    "    y.append(labels)"
   ]
  },
  {
   "cell_type": "code",
   "execution_count": 24,
   "id": "408d8469",
   "metadata": {},
   "outputs": [
    {
     "data": {
      "text/plain": [
       "(5749, 50, 50, 1)"
      ]
     },
     "execution_count": 24,
     "metadata": {},
     "output_type": "execute_result"
    }
   ],
   "source": [
    "#reshaping the feature array (Number of images ,height, weight, color, depth)\n",
    "x = np.array(x).reshape(-1,50,50,1)\n",
    "x.shape\n"
   ]
  },
  {
   "cell_type": "code",
   "execution_count": 25,
   "id": "bdc3e60e",
   "metadata": {},
   "outputs": [
    {
     "data": {
      "text/plain": [
       "(4, 253)"
      ]
     },
     "execution_count": 25,
     "metadata": {},
     "output_type": "execute_result"
    }
   ],
   "source": [
    "#next the normalizing the images \n",
    "x[0].min(), x[0].max()"
   ]
  },
  {
   "cell_type": "code",
   "execution_count": 26,
   "id": "2d6bc81b",
   "metadata": {},
   "outputs": [],
   "source": [
    "#normalizing to the range between 0 and 1\n",
    "x = normalize(x , axis=1)"
   ]
  },
  {
   "cell_type": "code",
   "execution_count": 27,
   "id": "3a396a90",
   "metadata": {},
   "outputs": [
    {
     "name": "stdout",
     "output_type": "stream",
     "text": [
      "['face_no_mask', 'face_with_mask', 'face_with_mask', 'face_with_mask', 'face_with_mask']\n"
     ]
    }
   ],
   "source": [
    "print(y[:5])"
   ]
  },
  {
   "cell_type": "code",
   "execution_count": 28,
   "id": "b04a9dbe",
   "metadata": {},
   "outputs": [],
   "source": [
    "#Label encoding the target \"y\"\n",
    "lbl = LabelEncoder()\n",
    "y = lbl.fit_transform(y)"
   ]
  },
  {
   "cell_type": "code",
   "execution_count": 29,
   "id": "aafb77b8",
   "metadata": {},
   "outputs": [
    {
     "name": "stdout",
     "output_type": "stream",
     "text": [
      "[0 1 1 1 1]\n"
     ]
    }
   ],
   "source": [
    "print(y[:5])"
   ]
  },
  {
   "cell_type": "code",
   "execution_count": 30,
   "id": "d0f019ab",
   "metadata": {},
   "outputs": [],
   "source": [
    "# convert it into a catagorical variable \n",
    "y = to_categorical(y)"
   ]
  },
  {
   "cell_type": "code",
   "execution_count": 31,
   "id": "19af6801",
   "metadata": {},
   "outputs": [
    {
     "name": "stdout",
     "output_type": "stream",
     "text": [
      "[[1. 0.]\n",
      " [0. 1.]\n",
      " [0. 1.]\n",
      " [0. 1.]\n",
      " [0. 1.]]\n"
     ]
    }
   ],
   "source": [
    "print(y[:5])\n",
    "#after convertical to categorical variable \n",
    "# . [1.0.] : face_no_mask\n",
    "# . [0. , 1.] : face_with_mask"
   ]
  },
  {
   "cell_type": "code",
   "execution_count": 32,
   "id": "b1bec3b6",
   "metadata": {},
   "outputs": [
    {
     "name": "stdout",
     "output_type": "stream",
     "text": [
      "(5749, 50, 50, 1)\n"
     ]
    }
   ],
   "source": [
    "#part 2 : Training an Image Classification Model (convolutional Neural Network )\n",
    "#before we build and train the model ,let us select only the height,width and color depth for our input layer\n",
    "print(x.shape)"
   ]
  },
  {
   "cell_type": "code",
   "execution_count": 33,
   "id": "d0387391",
   "metadata": {},
   "outputs": [
    {
     "name": "stdout",
     "output_type": "stream",
     "text": [
      "(50, 50, 1)\n"
     ]
    }
   ],
   "source": [
    "#keeping only height width and color depth/channel \n",
    "input_img_shape = x.shape[1:]\n",
    "print(input_img_shape)"
   ]
  },
  {
   "cell_type": "code",
   "execution_count": 37,
   "id": "3daeecef",
   "metadata": {},
   "outputs": [],
   "source": [
    "from tensorflow.keras.layers import Input\n",
    "inputs = Input(shape=(input_img_shape))"
   ]
  },
  {
   "cell_type": "code",
   "execution_count": 38,
   "id": "71c66efb",
   "metadata": {},
   "outputs": [],
   "source": [
    "#adding a 2D convolution layer\n",
    "couche1 = Conv2D(filters=100,kernel_size=(3,3),use_bias= True,activation= \"relu\",strides=2)(inputs)"
   ]
  },
  {
   "cell_type": "code",
   "execution_count": 39,
   "id": "6dd329c7",
   "metadata": {},
   "outputs": [],
   "source": [
    "#next creating a 2D MaxPooling layer\n",
    "#adding a max-pooling layer \n",
    "couche2 = MaxPooling2D(pool_size=(2,2))(couche1)"
   ]
  },
  {
   "cell_type": "code",
   "execution_count": 40,
   "id": "168509fe",
   "metadata": {},
   "outputs": [],
   "source": [
    "#adding an other 2D convolution layer - Output Shape = 10 x 10 x 64\n",
    "couche3 = Conv2D(filters=64,kernel_size=(3,3),use_bias= True, activation=\"relu\")(couche2)"
   ]
  },
  {
   "cell_type": "code",
   "execution_count": 41,
   "id": "ce3759a0",
   "metadata": {},
   "outputs": [],
   "source": [
    "#adding a max-pooling layer - Output Shape = 5 x 5 x 64\n",
    "couche4 = MaxPooling2D(pool_size=(2,2))(couche3)"
   ]
  },
  {
   "cell_type": "code",
   "execution_count": 42,
   "id": "30c507e5",
   "metadata": {},
   "outputs": [],
   "source": [
    "#flattening the Output from the MaxPooling layer\n",
    "#adding a Flatten layer - Output Shape = 5 x 5 x 64\n",
    "couche5 = Flatten()(couche4)"
   ]
  },
  {
   "cell_type": "code",
   "execution_count": 43,
   "id": "d8a27066",
   "metadata": {},
   "outputs": [],
   "source": [
    "#Passing the flattened array into a fully connected dense layer of 50 neurons\n",
    "#adding a dense layer - Output Shape = 50\n",
    "couche6 = Dense(50, activation=\"relu\")(couche5)"
   ]
  },
  {
   "cell_type": "code",
   "execution_count": 44,
   "id": "905b7105",
   "metadata": {},
   "outputs": [],
   "source": [
    "#adding a dropout of 2.0 a final dense layer (output layer) with the activation function as softmax\n",
    "#adding a dropout \n",
    "couche7 = Dropout(0.2)(couche6)"
   ]
  },
  {
   "cell_type": "code",
   "execution_count": 45,
   "id": "ae83e528",
   "metadata": {},
   "outputs": [],
   "source": [
    "#adding a dense layer with the  softmax activation \n",
    "couches = Dense(2,activation=\"softmax\")(couche7)"
   ]
  },
  {
   "cell_type": "code",
   "execution_count": 47,
   "id": "bf1ad1cf",
   "metadata": {},
   "outputs": [],
   "source": [
    "model = Model(inputs=inputs, outputs=couches)"
   ]
  },
  {
   "cell_type": "code",
   "execution_count": 48,
   "id": "622e5f6a",
   "metadata": {},
   "outputs": [
    {
     "name": "stdout",
     "output_type": "stream",
     "text": [
      "Model: \"model\"\n",
      "_________________________________________________________________\n",
      " Layer (type)                Output Shape              Param #   \n",
      "=================================================================\n",
      " input_1 (InputLayer)        [(None, 50, 50, 1)]       0         \n",
      "                                                                 \n",
      " conv2d_2 (Conv2D)           (None, 24, 24, 100)       1000      \n",
      "                                                                 \n",
      " max_pooling2d (MaxPooling2D  (None, 12, 12, 100)      0         \n",
      " )                                                               \n",
      "                                                                 \n",
      " conv2d_3 (Conv2D)           (None, 10, 10, 64)        57664     \n",
      "                                                                 \n",
      " max_pooling2d_1 (MaxPooling  (None, 5, 5, 64)         0         \n",
      " 2D)                                                             \n",
      "                                                                 \n",
      " flatten (Flatten)           (None, 1600)              0         \n",
      "                                                                 \n",
      " dense (Dense)               (None, 50)                80050     \n",
      "                                                                 \n",
      " dropout (Dropout)           (None, 50)                0         \n",
      "                                                                 \n",
      " dense_1 (Dense)             (None, 2)                 102       \n",
      "                                                                 \n",
      "=================================================================\n",
      "Total params: 138,816\n",
      "Trainable params: 138,816\n",
      "Non-trainable params: 0\n",
      "_________________________________________________________________\n"
     ]
    }
   ],
   "source": [
    "model.summary()"
   ]
  },
  {
   "cell_type": "code",
   "execution_count": 49,
   "id": "4e4dbc4b",
   "metadata": {},
   "outputs": [
    {
     "name": "stderr",
     "output_type": "stream",
     "text": [
      "c:\\users\\mohamed abdellahi\\appdata\\local\\programs\\python\\python39\\lib\\site-packages\\keras\\optimizer_v2\\adam.py:105: UserWarning: The `lr` argument is deprecated, use `learning_rate` instead.\n",
      "  super(Adam, self).__init__(name, **kwargs)\n"
     ]
    }
   ],
   "source": [
    "#Initializing an Adma optimizer\n",
    "opt = Adam(lr=1e-3, decay = 1e-5)\n",
    "#Configuration the model for training\n",
    "model.compile(optimizer=opt, loss=\"categorical_crossentropy\",metrics=[\"accuracy\"])"
   ]
  },
  {
   "cell_type": "code",
   "execution_count": 50,
   "id": "db2fe2b3",
   "metadata": {},
   "outputs": [
    {
     "name": "stdout",
     "output_type": "stream",
     "text": [
      "Epoch 1/30\n",
      "1150/1150 [==============================] - 156s 122ms/step - loss: 0.5549 - accuracy: 0.7252\n",
      "Epoch 2/30\n",
      "1150/1150 [==============================] - 165s 144ms/step - loss: 0.4710 - accuracy: 0.7690\n",
      "Epoch 3/30\n",
      "1150/1150 [==============================] - 167s 145ms/step - loss: 0.4120 - accuracy: 0.8125\n",
      "Epoch 4/30\n",
      "1150/1150 [==============================] - 167s 145ms/step - loss: 0.3732 - accuracy: 0.8348\n",
      "Epoch 5/30\n",
      "1150/1150 [==============================] - 142s 124ms/step - loss: 0.3370 - accuracy: 0.8511\n",
      "Epoch 6/30\n",
      "1150/1150 [==============================] - 137s 119ms/step - loss: 0.3124 - accuracy: 0.8659\n",
      "Epoch 7/30\n",
      "1150/1150 [==============================] - 142s 123ms/step - loss: 0.2902 - accuracy: 0.8751\n",
      "Epoch 8/30\n",
      "1150/1150 [==============================] - 139s 120ms/step - loss: 0.2709 - accuracy: 0.8868\n",
      "Epoch 9/30\n",
      "1150/1150 [==============================] - 140s 122ms/step - loss: 0.2511 - accuracy: 0.8944\n",
      "Epoch 10/30\n",
      "1150/1150 [==============================] - 168s 146ms/step - loss: 0.2347 - accuracy: 0.9002\n",
      "Epoch 11/30\n",
      "1150/1150 [==============================] - 171s 149ms/step - loss: 0.2162 - accuracy: 0.9106\n",
      "Epoch 12/30\n",
      "1150/1150 [==============================] - 173s 150ms/step - loss: 0.1998 - accuracy: 0.9200\n",
      "Epoch 13/30\n",
      "1150/1150 [==============================] - 169s 147ms/step - loss: 0.1855 - accuracy: 0.9217\n",
      "Epoch 14/30\n",
      "1150/1150 [==============================] - 170s 148ms/step - loss: 0.1716 - accuracy: 0.9320\n",
      "Epoch 15/30\n",
      "1150/1150 [==============================] - 176s 153ms/step - loss: 0.1536 - accuracy: 0.9370\n",
      "Epoch 16/30\n",
      "1150/1150 [==============================] - 197s 171ms/step - loss: 0.1480 - accuracy: 0.9400\n",
      "Epoch 17/30\n",
      "1150/1150 [==============================] - 181s 157ms/step - loss: 0.1314 - accuracy: 0.9497\n",
      "Epoch 18/30\n",
      "1150/1150 [==============================] - 194s 169ms/step - loss: 0.1216 - accuracy: 0.9551\n",
      "Epoch 19/30\n",
      "1150/1150 [==============================] - 184s 160ms/step - loss: 0.1043 - accuracy: 0.9569\n",
      "Epoch 20/30\n",
      "1150/1150 [==============================] - 224s 195ms/step - loss: 0.1007 - accuracy: 0.9614\n",
      "Epoch 21/30\n",
      "1150/1150 [==============================] - 183s 159ms/step - loss: 0.0962 - accuracy: 0.9616\n",
      "Epoch 22/30\n",
      "1150/1150 [==============================] - 194s 169ms/step - loss: 0.0822 - accuracy: 0.9703\n",
      "Epoch 23/30\n",
      "1150/1150 [==============================] - 179s 156ms/step - loss: 0.0818 - accuracy: 0.9687\n",
      "Epoch 24/30\n",
      "1150/1150 [==============================] - 178s 154ms/step - loss: 0.0726 - accuracy: 0.9725\n",
      "Epoch 25/30\n",
      "1150/1150 [==============================] - 178s 155ms/step - loss: 0.0604 - accuracy: 0.9783\n",
      "Epoch 26/30\n",
      "1150/1150 [==============================] - 160s 139ms/step - loss: 0.0623 - accuracy: 0.9758\n",
      "Epoch 27/30\n",
      "1150/1150 [==============================] - 177s 154ms/step - loss: 0.0559 - accuracy: 0.9805\n",
      "Epoch 28/30\n",
      "1150/1150 [==============================] - 177s 154ms/step - loss: 0.0626 - accuracy: 0.9755\n",
      "Epoch 29/30\n",
      "1150/1150 [==============================] - 178s 155ms/step - loss: 0.0473 - accuracy: 0.9835\n",
      "Epoch 30/30\n",
      "1150/1150 [==============================] - 173s 150ms/step - loss: 0.0467 - accuracy: 0.9819\n"
     ]
    },
    {
     "data": {
      "text/plain": [
       "<keras.callbacks.History at 0x264cea9ba90>"
      ]
     },
     "execution_count": 50,
     "metadata": {},
     "output_type": "execute_result"
    }
   ],
   "source": [
    "#Training the model\n",
    "model.fit(x,y,epochs=30, batch_size=5)\n",
    "# we now have a trained image classification model ready!"
   ]
  },
  {
   "cell_type": "code",
   "execution_count": 51,
   "id": "39a42961",
   "metadata": {},
   "outputs": [
    {
     "name": "stdout",
     "output_type": "stream",
     "text": [
      "Saved model to disk\n"
     ]
    }
   ],
   "source": [
    "model.save(\"Functionalmodel.h5\")\n",
    "print(\"Saved model to disk\")"
   ]
  },
  {
   "cell_type": "code",
   "execution_count": 52,
   "id": "698a4626",
   "metadata": {},
   "outputs": [
    {
     "name": "stdout",
     "output_type": "stream",
     "text": [
      "You must install pydot (`pip install pydot`) and install graphviz (see instructions at https://graphviz.gitlab.io/download/) for plot_model/model_to_dot to work.\n"
     ]
    }
   ],
   "source": [
    "# visualisation de la model pour bien comprendre ce qui va se passé\n",
    "from tensorflow.keras.utils import plot_model\n",
    "plot_model(model, to_file='model.png')"
   ]
  },
  {
   "cell_type": "code",
   "execution_count": null,
   "id": "daa315ad",
   "metadata": {},
   "outputs": [],
   "source": [
    "pip install pydot"
   ]
  },
  {
   "cell_type": "code",
   "execution_count": null,
   "id": "350e769b",
   "metadata": {},
   "outputs": [],
   "source": [
    "pip install graphviz"
   ]
  }
 ],
 "metadata": {
  "kernelspec": {
   "display_name": "Python 3 (ipykernel)",
   "language": "python",
   "name": "python3"
  },
  "language_info": {
   "codemirror_mode": {
    "name": "ipython",
    "version": 3
   },
   "file_extension": ".py",
   "mimetype": "text/x-python",
   "name": "python",
   "nbconvert_exporter": "python",
   "pygments_lexer": "ipython3",
   "version": "3.10.2"
  }
 },
 "nbformat": 4,
 "nbformat_minor": 5
}
